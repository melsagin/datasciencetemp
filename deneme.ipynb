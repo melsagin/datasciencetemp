{
 "cells": [
  {
   "cell_type": "code",
   "execution_count": 15,
   "metadata": {},
   "outputs": [
    {
     "ename": "TypeError",
     "evalue": "object of type 'int' has no len()",
     "output_type": "error",
     "traceback": [
      "\u001b[1;31m---------------------------------------------------------------------------\u001b[0m",
      "\u001b[1;31mTypeError\u001b[0m                                 Traceback (most recent call last)",
      "\u001b[1;32mc:\\Users\\M E L S A\\Desktop\\M E L S A\\data_science\\datasciencetemp\\deneme.ipynb Cell 1\u001b[0m line \u001b[0;36m1\n\u001b[0;32m     <a href='vscode-notebook-cell:/c%3A/Users/M%20E%20L%20S%20A/Desktop/M%20E%20L%20S%20A/data_science/datasciencetemp/deneme.ipynb#W0sZmlsZQ%3D%3D?line=10'>11</a>\u001b[0m sayi1 \u001b[39m=\u001b[39m \u001b[39m5\u001b[39m\n\u001b[0;32m     <a href='vscode-notebook-cell:/c%3A/Users/M%20E%20L%20S%20A/Desktop/M%20E%20L%20S%20A/data_science/datasciencetemp/deneme.ipynb#W0sZmlsZQ%3D%3D?line=11'>12</a>\u001b[0m sayi2 \u001b[39m=\u001b[39m \u001b[39m3\u001b[39m\n\u001b[1;32m---> <a href='vscode-notebook-cell:/c%3A/Users/M%20E%20L%20S%20A/Desktop/M%20E%20L%20S%20A/data_science/datasciencetemp/deneme.ipynb#W0sZmlsZQ%3D%3D?line=12'>13</a>\u001b[0m bolme(sayi1,sayi2)\n",
      "\u001b[1;32mc:\\Users\\M E L S A\\Desktop\\M E L S A\\data_science\\datasciencetemp\\deneme.ipynb Cell 1\u001b[0m line \u001b[0;36m5\n\u001b[0;32m      <a href='vscode-notebook-cell:/c%3A/Users/M%20E%20L%20S%20A/Desktop/M%20E%20L%20S%20A/data_science/datasciencetemp/deneme.ipynb#W0sZmlsZQ%3D%3D?line=2'>3</a>\u001b[0m kalan \u001b[39m=\u001b[39m bolunen \u001b[39m/\u001b[39m\u001b[39m/\u001b[39m bolen\n\u001b[0;32m      <a href='vscode-notebook-cell:/c%3A/Users/M%20E%20L%20S%20A/Desktop/M%20E%20L%20S%20A/data_science/datasciencetemp/deneme.ipynb#W0sZmlsZQ%3D%3D?line=3'>4</a>\u001b[0m bolum \u001b[39m=\u001b[39m math\u001b[39m.\u001b[39mfloor(bolunen \u001b[39m/\u001b[39m bolen)\n\u001b[1;32m----> <a href='vscode-notebook-cell:/c%3A/Users/M%20E%20L%20S%20A/Desktop/M%20E%20L%20S%20A/data_science/datasciencetemp/deneme.ipynb#W0sZmlsZQ%3D%3D?line=4'>5</a>\u001b[0m \u001b[39mwhile\u001b[39;00m((\u001b[39mlen\u001b[39;49m(bolum))\u001b[39m<\u001b[39m\u001b[39m6\u001b[39m \u001b[39mand\u001b[39;00m kalan \u001b[39m!=\u001b[39m \u001b[39m0\u001b[39m):\n\u001b[0;32m      <a href='vscode-notebook-cell:/c%3A/Users/M%20E%20L%20S%20A/Desktop/M%20E%20L%20S%20A/data_science/datasciencetemp/deneme.ipynb#W0sZmlsZQ%3D%3D?line=5'>6</a>\u001b[0m     \u001b[39mif\u001b[39;00m(kalan\u001b[39m<\u001b[39mbolen):\n\u001b[0;32m      <a href='vscode-notebook-cell:/c%3A/Users/M%20E%20L%20S%20A/Desktop/M%20E%20L%20S%20A/data_science/datasciencetemp/deneme.ipynb#W0sZmlsZQ%3D%3D?line=6'>7</a>\u001b[0m         bolum \u001b[39m=\u001b[39m math\u001b[39m.\u001b[39mfloor((kalan\u001b[39m*\u001b[39m\u001b[39m10\u001b[39m)\u001b[39m/\u001b[39m\u001b[39m/\u001b[39mbolen)\n",
      "\u001b[1;31mTypeError\u001b[0m: object of type 'int' has no len()"
     ]
    }
   ],
   "source": [
    "import math\n",
    "def bolme(bolunen, bolen):\n",
    "    kalan = bolunen // bolen\n",
    "    bolum = math.floor(bolunen / bolen)\n",
    "    while((len(bolum))<6 and kalan != 0):\n",
    "        if(kalan<bolen):\n",
    "            bolum = math.floor((kalan*10)//bolen)\n",
    "            kalan = kalan//bolen\n",
    "            print(f\"kalan {kalan} bolum {bolum}\")\n",
    "\n",
    "sayi1 = 5\n",
    "sayi2 = 3\n",
    "bolme(sayi1,sayi2)"
   ]
  }
 ],
 "metadata": {
  "kernelspec": {
   "display_name": "Python 3",
   "language": "python",
   "name": "python3"
  },
  "language_info": {
   "codemirror_mode": {
    "name": "ipython",
    "version": 3
   },
   "file_extension": ".py",
   "mimetype": "text/x-python",
   "name": "python",
   "nbconvert_exporter": "python",
   "pygments_lexer": "ipython3",
   "version": "3.11.1"
  }
 },
 "nbformat": 4,
 "nbformat_minor": 2
}
