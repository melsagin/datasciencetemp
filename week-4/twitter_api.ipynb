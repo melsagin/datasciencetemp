{
 "cells": [
  {
   "cell_type": "code",
   "execution_count": 3,
   "metadata": {},
   "outputs": [],
   "source": [
    "import pandas as pd\n",
    "from ntscraper import Nitter"
   ]
  },
  {
   "cell_type": "code",
   "execution_count": 4,
   "metadata": {},
   "outputs": [
    {
     "name": "stderr",
     "output_type": "stream",
     "text": [
      "Testing instances: 100%|██████████| 28/28 [00:59<00:00,  2.11s/it]\n"
     ]
    }
   ],
   "source": [
    "scrapper = Nitter()"
   ]
  },
  {
   "cell_type": "code",
   "execution_count": 26,
   "metadata": {},
   "outputs": [],
   "source": [
    "def get_tweets(name, modes, no):\n",
    "    tweets = scrapper.get_tweets(name, mode=modes, number=no)\n",
    "    final_tweets = []\n",
    "    for tweet in tweets['tweets']:\n",
    "        data = [tweet['link'], tweet['text'], tweet['date'], tweet['stats']['likes'], tweet['stats']['comments']]\n",
    "        final_tweets.append(data)\n",
    "    data = pd.DataFrame(final_tweets, columns=['link', 'text', 'date', 'number_of_likes', 'number_of_comment'])\n",
    "    return data"
   ]
  },
  {
   "cell_type": "code",
   "execution_count": 31,
   "metadata": {},
   "outputs": [
    {
     "name": "stdout",
     "output_type": "stream",
     "text": [
      "18-Dec-23 18:29:51 - No instance specified, using random instance https://nitter.uni-sonia.com\n",
      "18-Dec-23 18:29:58 - Current stats for cemadrian: 5 tweets, 0 threads...\n"
     ]
    }
   ],
   "source": [
    "data = get_tweets('cemadrian', 'user', 5)"
   ]
  },
  {
   "cell_type": "code",
   "execution_count": 32,
   "metadata": {},
   "outputs": [
    {
     "data": {
      "text/html": [
       "<div>\n",
       "<style scoped>\n",
       "    .dataframe tbody tr th:only-of-type {\n",
       "        vertical-align: middle;\n",
       "    }\n",
       "\n",
       "    .dataframe tbody tr th {\n",
       "        vertical-align: top;\n",
       "    }\n",
       "\n",
       "    .dataframe thead th {\n",
       "        text-align: right;\n",
       "    }\n",
       "</style>\n",
       "<table border=\"1\" class=\"dataframe\">\n",
       "  <thead>\n",
       "    <tr style=\"text-align: right;\">\n",
       "      <th></th>\n",
       "      <th>link</th>\n",
       "      <th>text</th>\n",
       "      <th>date</th>\n",
       "      <th>number_of_likes</th>\n",
       "      <th>number_of_comment</th>\n",
       "    </tr>\n",
       "  </thead>\n",
       "  <tbody>\n",
       "    <tr>\n",
       "      <th>0</th>\n",
       "      <td>https://twitter.com/cemadrian/status/173669868...</td>\n",
       "      <td>Kuğulu park hatırası...</td>\n",
       "      <td>Dec 18, 2023 · 10:43 AM UTC</td>\n",
       "      <td>3672</td>\n",
       "      <td>57</td>\n",
       "    </tr>\n",
       "    <tr>\n",
       "      <th>1</th>\n",
       "      <td>https://twitter.com/fazilsaymusic/status/17362...</td>\n",
       "      <td>Cem Adrian</td>\n",
       "      <td>Dec 17, 2023 · 7:40 AM UTC</td>\n",
       "      <td>2542</td>\n",
       "      <td>90</td>\n",
       "    </tr>\n",
       "    <tr>\n",
       "      <th>2</th>\n",
       "      <td>https://twitter.com/demetsagiroglu/status/1736...</td>\n",
       "      <td>Cem ile tanışmamız bir kahve içimi için uğradı...</td>\n",
       "      <td>Dec 17, 2023 · 12:30 PM UTC</td>\n",
       "      <td>6202</td>\n",
       "      <td>89</td>\n",
       "    </tr>\n",
       "    <tr>\n",
       "      <th>3</th>\n",
       "      <td>https://twitter.com/cemadrian/status/173609851...</td>\n",
       "      <td></td>\n",
       "      <td>Dec 16, 2023 · 6:58 PM UTC</td>\n",
       "      <td>1456</td>\n",
       "      <td>32</td>\n",
       "    </tr>\n",
       "    <tr>\n",
       "      <th>4</th>\n",
       "      <td>https://twitter.com/cemadrian/status/173526774...</td>\n",
       "      <td></td>\n",
       "      <td>Dec 14, 2023 · 11:57 AM UTC</td>\n",
       "      <td>152</td>\n",
       "      <td>3</td>\n",
       "    </tr>\n",
       "  </tbody>\n",
       "</table>\n",
       "</div>"
      ],
      "text/plain": [
       "                                                link  \\\n",
       "0  https://twitter.com/cemadrian/status/173669868...   \n",
       "1  https://twitter.com/fazilsaymusic/status/17362...   \n",
       "2  https://twitter.com/demetsagiroglu/status/1736...   \n",
       "3  https://twitter.com/cemadrian/status/173609851...   \n",
       "4  https://twitter.com/cemadrian/status/173526774...   \n",
       "\n",
       "                                                text  \\\n",
       "0                            Kuğulu park hatırası...   \n",
       "1                                         Cem Adrian   \n",
       "2  Cem ile tanışmamız bir kahve içimi için uğradı...   \n",
       "3                                                      \n",
       "4                                                      \n",
       "\n",
       "                          date  number_of_likes  number_of_comment  \n",
       "0  Dec 18, 2023 · 10:43 AM UTC             3672                 57  \n",
       "1   Dec 17, 2023 · 7:40 AM UTC             2542                 90  \n",
       "2  Dec 17, 2023 · 12:30 PM UTC             6202                 89  \n",
       "3   Dec 16, 2023 · 6:58 PM UTC             1456                 32  \n",
       "4  Dec 14, 2023 · 11:57 AM UTC              152                  3  "
      ]
     },
     "execution_count": 32,
     "metadata": {},
     "output_type": "execute_result"
    }
   ],
   "source": [
    "data"
   ]
  },
  {
   "cell_type": "code",
   "execution_count": 39,
   "metadata": {},
   "outputs": [
    {
     "name": "stdout",
     "output_type": "stream",
     "text": [
      "18-Dec-23 18:32:45 - No instance specified, using random instance https://nitter.ktachibana.party\n",
      "18-Dec-23 18:32:51 - Current stats for SONDAK KA: 5 tweets, 0 threads...\n"
     ]
    }
   ],
   "source": [
    "data = get_tweets('SONDAKİKA', 'hashtag', 5)"
   ]
  },
  {
   "cell_type": "code",
   "execution_count": 40,
   "metadata": {},
   "outputs": [
    {
     "data": {
      "text/html": [
       "<div>\n",
       "<style scoped>\n",
       "    .dataframe tbody tr th:only-of-type {\n",
       "        vertical-align: middle;\n",
       "    }\n",
       "\n",
       "    .dataframe tbody tr th {\n",
       "        vertical-align: top;\n",
       "    }\n",
       "\n",
       "    .dataframe thead th {\n",
       "        text-align: right;\n",
       "    }\n",
       "</style>\n",
       "<table border=\"1\" class=\"dataframe\">\n",
       "  <thead>\n",
       "    <tr style=\"text-align: right;\">\n",
       "      <th></th>\n",
       "      <th>link</th>\n",
       "      <th>text</th>\n",
       "      <th>date</th>\n",
       "      <th>number_of_likes</th>\n",
       "      <th>number_of_comment</th>\n",
       "    </tr>\n",
       "  </thead>\n",
       "  <tbody>\n",
       "    <tr>\n",
       "      <th>0</th>\n",
       "      <td>https://twitter.com/namtar1976/status/16946579...</td>\n",
       "      <td>iLETiSiM WHATSAPP https://wa.me/258868436532 #...</td>\n",
       "      <td>Aug 24, 2023 · 10:28 AM UTC</td>\n",
       "      <td>0</td>\n",
       "      <td>18</td>\n",
       "    </tr>\n",
       "    <tr>\n",
       "      <th>1</th>\n",
       "      <td>https://twitter.com/tunnage1991/status/1694657...</td>\n",
       "      <td>iLETiSiM WHATSAPP https://wa.me/258868436532 #...</td>\n",
       "      <td>Aug 24, 2023 · 10:26 AM UTC</td>\n",
       "      <td>0</td>\n",
       "      <td>18</td>\n",
       "    </tr>\n",
       "    <tr>\n",
       "      <th>2</th>\n",
       "      <td>https://twitter.com/haberlisin/status/16027640...</td>\n",
       "      <td>2 fabrikada grevler ertelendi #fabrikagrev #be...</td>\n",
       "      <td>Dec 13, 2022 · 8:35 PM UTC</td>\n",
       "      <td>0</td>\n",
       "      <td>0</td>\n",
       "    </tr>\n",
       "    <tr>\n",
       "      <th>3</th>\n",
       "      <td>https://twitter.com/TwiterSonDakika/status/123...</td>\n",
       "      <td>#SONDAK,KA Erdoğan’dan 'İdlib' için acil topla...</td>\n",
       "      <td>Feb 27, 2020 · 8:53 PM UTC</td>\n",
       "      <td>0</td>\n",
       "      <td>0</td>\n",
       "    </tr>\n",
       "    <tr>\n",
       "      <th>4</th>\n",
       "      <td>https://twitter.com/MevlutOzer_/status/1034063...</td>\n",
       "      <td>#SONDAK;KA  #İstanbul #Beykoz #Riva'da ormanlı...</td>\n",
       "      <td>Aug 27, 2018 · 1:03 PM UTC</td>\n",
       "      <td>0</td>\n",
       "      <td>0</td>\n",
       "    </tr>\n",
       "  </tbody>\n",
       "</table>\n",
       "</div>"
      ],
      "text/plain": [
       "                                                link  \\\n",
       "0  https://twitter.com/namtar1976/status/16946579...   \n",
       "1  https://twitter.com/tunnage1991/status/1694657...   \n",
       "2  https://twitter.com/haberlisin/status/16027640...   \n",
       "3  https://twitter.com/TwiterSonDakika/status/123...   \n",
       "4  https://twitter.com/MevlutOzer_/status/1034063...   \n",
       "\n",
       "                                                text  \\\n",
       "0  iLETiSiM WHATSAPP https://wa.me/258868436532 #...   \n",
       "1  iLETiSiM WHATSAPP https://wa.me/258868436532 #...   \n",
       "2  2 fabrikada grevler ertelendi #fabrikagrev #be...   \n",
       "3  #SONDAK,KA Erdoğan’dan 'İdlib' için acil topla...   \n",
       "4  #SONDAK;KA  #İstanbul #Beykoz #Riva'da ormanlı...   \n",
       "\n",
       "                          date  number_of_likes  number_of_comment  \n",
       "0  Aug 24, 2023 · 10:28 AM UTC                0                 18  \n",
       "1  Aug 24, 2023 · 10:26 AM UTC                0                 18  \n",
       "2   Dec 13, 2022 · 8:35 PM UTC                0                  0  \n",
       "3   Feb 27, 2020 · 8:53 PM UTC                0                  0  \n",
       "4   Aug 27, 2018 · 1:03 PM UTC                0                  0  "
      ]
     },
     "execution_count": 40,
     "metadata": {},
     "output_type": "execute_result"
    }
   ],
   "source": [
    "data"
   ]
  },
  {
   "cell_type": "code",
   "execution_count": 47,
   "metadata": {},
   "outputs": [
    {
     "name": "stdout",
     "output_type": "stream",
     "text": [
      "18-Dec-23 18:35:50 - No instance specified, using random instance https://nitter.perennialte.ch\n",
      "18-Dec-23 18:35:59 - Current stats for Diana Damrau: 5 tweets, 0 threads...\n"
     ]
    }
   ],
   "source": [
    "data = get_tweets('Diana Damrau', 'term', 5)"
   ]
  },
  {
   "cell_type": "code",
   "execution_count": 48,
   "metadata": {},
   "outputs": [
    {
     "data": {
      "text/html": [
       "<div>\n",
       "<style scoped>\n",
       "    .dataframe tbody tr th:only-of-type {\n",
       "        vertical-align: middle;\n",
       "    }\n",
       "\n",
       "    .dataframe tbody tr th {\n",
       "        vertical-align: top;\n",
       "    }\n",
       "\n",
       "    .dataframe thead th {\n",
       "        text-align: right;\n",
       "    }\n",
       "</style>\n",
       "<table border=\"1\" class=\"dataframe\">\n",
       "  <thead>\n",
       "    <tr style=\"text-align: right;\">\n",
       "      <th></th>\n",
       "      <th>link</th>\n",
       "      <th>text</th>\n",
       "      <th>date</th>\n",
       "      <th>number_of_likes</th>\n",
       "      <th>number_of_comment</th>\n",
       "    </tr>\n",
       "  </thead>\n",
       "  <tbody>\n",
       "    <tr>\n",
       "      <th>0</th>\n",
       "      <td>https://twitter.com/HumbleZephyr/status/173676...</td>\n",
       "      <td>Mozart - Queen of the Night (Diana Damrau) htt...</td>\n",
       "      <td>Dec 18, 2023 · 3:19 PM UTC</td>\n",
       "      <td>0</td>\n",
       "      <td>1</td>\n",
       "    </tr>\n",
       "    <tr>\n",
       "      <th>1</th>\n",
       "      <td>https://twitter.com/WarnerClassics/status/1736...</td>\n",
       "      <td>\"As a little girl, during the Christmas season...</td>\n",
       "      <td>Dec 18, 2023 · 2:00 PM UTC</td>\n",
       "      <td>8</td>\n",
       "      <td>0</td>\n",
       "    </tr>\n",
       "    <tr>\n",
       "      <th>2</th>\n",
       "      <td>https://twitter.com/LucHenriRoger1/status/1736...</td>\n",
       "      <td>Le blog de Luc-Henri Roger: La Saint-Sylvestre...</td>\n",
       "      <td>Dec 18, 2023 · 6:15 AM UTC</td>\n",
       "      <td>0</td>\n",
       "      <td>0</td>\n",
       "    </tr>\n",
       "    <tr>\n",
       "      <th>3</th>\n",
       "      <td>https://twitter.com/LucHenriRoger1/status/1736...</td>\n",
       "      <td>Munich and Company: La Saint-Sylvestre à l'Opé...</td>\n",
       "      <td>Dec 18, 2023 · 6:14 AM UTC</td>\n",
       "      <td>0</td>\n",
       "      <td>0</td>\n",
       "    </tr>\n",
       "    <tr>\n",
       "      <th>4</th>\n",
       "      <td>https://twitter.com/Osayu_sayu_sayu/status/173...</td>\n",
       "      <td>The Magic Flute – Queen of the Night aria (Moz...</td>\n",
       "      <td>Dec 18, 2023 · 4:14 AM UTC</td>\n",
       "      <td>0</td>\n",
       "      <td>0</td>\n",
       "    </tr>\n",
       "  </tbody>\n",
       "</table>\n",
       "</div>"
      ],
      "text/plain": [
       "                                                link  \\\n",
       "0  https://twitter.com/HumbleZephyr/status/173676...   \n",
       "1  https://twitter.com/WarnerClassics/status/1736...   \n",
       "2  https://twitter.com/LucHenriRoger1/status/1736...   \n",
       "3  https://twitter.com/LucHenriRoger1/status/1736...   \n",
       "4  https://twitter.com/Osayu_sayu_sayu/status/173...   \n",
       "\n",
       "                                                text  \\\n",
       "0  Mozart - Queen of the Night (Diana Damrau) htt...   \n",
       "1  \"As a little girl, during the Christmas season...   \n",
       "2  Le blog de Luc-Henri Roger: La Saint-Sylvestre...   \n",
       "3  Munich and Company: La Saint-Sylvestre à l'Opé...   \n",
       "4  The Magic Flute – Queen of the Night aria (Moz...   \n",
       "\n",
       "                         date  number_of_likes  number_of_comment  \n",
       "0  Dec 18, 2023 · 3:19 PM UTC                0                  1  \n",
       "1  Dec 18, 2023 · 2:00 PM UTC                8                  0  \n",
       "2  Dec 18, 2023 · 6:15 AM UTC                0                  0  \n",
       "3  Dec 18, 2023 · 6:14 AM UTC                0                  0  \n",
       "4  Dec 18, 2023 · 4:14 AM UTC                0                  0  "
      ]
     },
     "execution_count": 48,
     "metadata": {},
     "output_type": "execute_result"
    }
   ],
   "source": [
    "data"
   ]
  },
  {
   "cell_type": "code",
   "execution_count": 51,
   "metadata": {},
   "outputs": [
    {
     "name": "stdout",
     "output_type": "stream",
     "text": [
      "18-Dec-23 18:40:00 - No instance specified, using random instance https://nitter.rawbit.ninja\n"
     ]
    },
    {
     "data": {
      "text/plain": [
       "{'image': 'https://pbs.twimg.com/profile_images/1072893444513849345/WpE1pZo9_400x400.jpg',\n",
       " 'name': 'The Royal Ballet',\n",
       " 'username': '@TheRoyalBallet',\n",
       " 'id': '465680140',\n",
       " 'bio': \"The Royal Ballet is Britain's largest ballet company. Based @RoyalOperaHouse.\",\n",
       " 'location': 'London',\n",
       " 'website': 'http://www.roh.org.uk',\n",
       " 'joined': '4:35 PM - 16 Jan 2012',\n",
       " 'stats': {'tweets': 10319,\n",
       "  'following': 219,\n",
       "  'followers': 180347,\n",
       "  'likes': 1390,\n",
       "  'media': 3238}}"
      ]
     },
     "execution_count": 51,
     "metadata": {},
     "output_type": "execute_result"
    }
   ],
   "source": [
    "scrapper.get_profile_info(\"TheRoyalBallet\")"
   ]
  }
 ],
 "metadata": {
  "kernelspec": {
   "display_name": "base",
   "language": "python",
   "name": "python3"
  },
  "language_info": {
   "codemirror_mode": {
    "name": "ipython",
    "version": 3
   },
   "file_extension": ".py",
   "mimetype": "text/x-python",
   "name": "python",
   "nbconvert_exporter": "python",
   "pygments_lexer": "ipython3",
   "version": "3.9.12"
  }
 },
 "nbformat": 4,
 "nbformat_minor": 2
}
