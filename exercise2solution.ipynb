{
 "cells": [
  {
   "cell_type": "code",
   "execution_count": 33,
   "metadata": {},
   "outputs": [
    {
     "data": {
      "text/plain": [
       "{'s': 2, 'a': 3, 'r': 2, 't': 2, 'e': 2, ' ': 1, 'h': 1}"
      ]
     },
     "execution_count": 33,
     "metadata": {},
     "output_type": "execute_result"
    }
   ],
   "source": [
    "def kac_tane_index(string_parametresi):\n",
    "    items_sayac = {} #bu bir dictionarydir\n",
    "    for item in string_parametresi:\n",
    "            if item in items_sayac:\n",
    "                items_sayac[item] +=1\n",
    "            else:\n",
    "                items_sayac[item] = 1\n",
    "    return items_sayac\n",
    "\n",
    "string_mesaj = \"sartre asathe\"\n",
    "kac_tane_index(string_mesaj)"
   ]
  },
  {
   "cell_type": "code",
   "execution_count": 19,
   "metadata": {},
   "outputs": [
    {
     "name": "stdout",
     "output_type": "stream",
     "text": [
      "l\n"
     ]
    }
   ],
   "source": [
    "#Alternatif Düşünce\n",
    "def find_string_index(string_parameter):\n",
    "    ogeler = [char for char in string_parameter]\n",
    "    istenen_index = int(input(\"Lütfen istediğiniz indexi giriniz: \"))\n",
    "    print(ogeler[istenen_index])\n",
    "\n",
    "mesaj = \"melsa sağın\"\n",
    "#print(type(mesaj))\n",
    "find_string_index(mesaj)"
   ]
  }
 ],
 "metadata": {
  "kernelspec": {
   "display_name": "Python 3",
   "language": "python",
   "name": "python3"
  },
  "language_info": {
   "codemirror_mode": {
    "name": "ipython",
    "version": 3
   },
   "file_extension": ".py",
   "mimetype": "text/x-python",
   "name": "python",
   "nbconvert_exporter": "python",
   "pygments_lexer": "ipython3",
   "version": "3.11.1"
  }
 },
 "nbformat": 4,
 "nbformat_minor": 2
}
