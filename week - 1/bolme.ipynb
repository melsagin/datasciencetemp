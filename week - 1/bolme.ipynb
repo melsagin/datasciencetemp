{
 "cells": [
  {
   "cell_type": "code",
   "execution_count": 36,
   "metadata": {},
   "outputs": [
    {
     "name": "stdout",
     "output_type": "stream",
     "text": [
      "Bölüm: 13.571428571428571, Kalan: 4\n"
     ]
    }
   ],
   "source": [
    "import math\n",
    "# / ile ondalıklı sayı sonucu verilir örneğin 35/2 sonucu 17.5 ise 17.5 sonucunu verir\n",
    "# // ile tam sayı sonucunu verir örneğin 35//2 için 17 sonucunu verir\n",
    "def bolme(bolunen, bolen):\n",
    "    bolum = bolunen / bolen\n",
    "    kalan = bolunen - (math.floor(bolum) * bolen) #burada virgüllü çıkan bölümü  \n",
    "    print(f\"Bölüm: {bolum}, Kalan: {kalan}\")\n",
    "\n",
    "# Kullanıcıdan iki sayı girişi alalım\n",
    "sayi1 = int(input(\"Bölünen sayıyı girin: \"))\n",
    "sayi2 = int(input(\"Bölen sayıyı girin: \"))\n",
    "\n",
    "# Bolme fonksiyonunu çağıralım\n",
    "bolme(sayi1, sayi2)\n",
    "\n",
    "    \n",
    "\n",
    "\n"
   ]
  }
 ],
 "metadata": {
  "kernelspec": {
   "display_name": "Python 3",
   "language": "python",
   "name": "python3"
  },
  "language_info": {
   "codemirror_mode": {
    "name": "ipython",
    "version": 3
   },
   "file_extension": ".py",
   "mimetype": "text/x-python",
   "name": "python",
   "nbconvert_exporter": "python",
   "pygments_lexer": "ipython3",
   "version": "3.11.1"
  }
 },
 "nbformat": 4,
 "nbformat_minor": 2
}
