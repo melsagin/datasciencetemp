{
 "cells": [
  {
   "cell_type": "code",
   "execution_count": 8,
   "metadata": {},
   "outputs": [
    {
     "name": "stdout",
     "output_type": "stream",
     "text": [
      "intern_driver\n"
     ]
    }
   ],
   "source": [
    "test_score = 80\n",
    "age = 18\n",
    "\n",
    "def driver_status(age, test_score):\n",
    "    if (age >= 16 and age <= 18) and test_score >= 80:\n",
    "        state = \"intern_driver\"\n",
    "    elif age == 18 and test_score >= 80:\n",
    "        state = \"driver\"\n",
    "    elif (age >= 16 and age <= 18) and (test_score >= 60 and test_score <= 80):\n",
    "        state = \"supervised_intern_driver\"\n",
    "    elif age > 18 and (test_score >= 60 and test_score <= 80):\n",
    "        state = \"supervised_driver\"\n",
    "    else:\n",
    "        state = \"not_driver\"\n",
    "    return state\n",
    "\n",
    "test_result = driver_status(age, test_score)\n",
    "print(test_result)\n"
   ]
  },
  {
   "cell_type": "code",
   "execution_count": 9,
   "metadata": {},
   "outputs": [
    {
     "name": "stdout",
     "output_type": "stream",
     "text": [
      "driver\n"
     ]
    }
   ],
   "source": [
    "test_score = 80\n",
    "age = 18\n",
    "\n",
    "def driver_status(age, test_score):\n",
    "    if test_score >= 80:\n",
    "        if 18 > age >= 16:\n",
    "            return \"intern_driver\"\n",
    "        elif age >= 18:\n",
    "            return \"driver\"\n",
    "    elif 80 > test_score >= 60:\n",
    "        if 18 > age >= 16:\n",
    "            return \"supervised_intern_driver\"\n",
    "        elif age >= 18:\n",
    "            return \"supervised_driver\"\n",
    "    return \"unlicenced\"\n",
    "\n",
    "test_result = driver_status(age, test_score)\n",
    "print(test_result)"
   ]
  },
  {
   "cell_type": "code",
   "execution_count": 14,
   "metadata": {},
   "outputs": [
    {
     "name": "stdout",
     "output_type": "stream",
     "text": [
      "[0, 1, 8, 27, 64, 125, 216, 343, 512, 729]\n"
     ]
    }
   ],
   "source": [
    "cubes_to_1000 = []\n",
    "\n",
    "for item in range(10):\n",
    "    cubes_to_1000.append(item**3)\n",
    "print(cubes_to_1000)\n"
   ]
  },
  {
   "cell_type": "code",
   "execution_count": 21,
   "metadata": {},
   "outputs": [
    {
     "data": {
      "text/plain": [
       "{9, 225}"
      ]
     },
     "execution_count": 21,
     "metadata": {},
     "output_type": "execute_result"
    }
   ],
   "source": [
    "def calculated_numbers(numbers):\n",
    "    my_numbers = []\n",
    "    for number in numbers:\n",
    "        value = number**2\n",
    "        if value % 3 == 0:\n",
    "            my_numbers.append(value)\n",
    "    return set(my_numbers)\n",
    "\n",
    "numbers = [1, 1, 1, 2, 2, 3, 4, 15]\n",
    "calculated_numbers(numbers)"
   ]
  }
 ],
 "metadata": {
  "kernelspec": {
   "display_name": "Python 3",
   "language": "python",
   "name": "python3"
  },
  "language_info": {
   "codemirror_mode": {
    "name": "ipython",
    "version": 3
   },
   "file_extension": ".py",
   "mimetype": "text/x-python",
   "name": "python",
   "nbconvert_exporter": "python",
   "pygments_lexer": "ipython3",
   "version": "3.11.1"
  }
 },
 "nbformat": 4,
 "nbformat_minor": 2
}
