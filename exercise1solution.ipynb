{
 "cells": [
  {
   "cell_type": "code",
   "execution_count": 2,
   "metadata": {},
   "outputs": [
    {
     "name": "stdout",
     "output_type": "stream",
     "text": [
      "<class 'list'>\n"
     ]
    },
    {
     "data": {
      "text/plain": [
       "7"
      ]
     },
     "execution_count": 2,
     "metadata": {},
     "output_type": "execute_result"
    }
   ],
   "source": [
    "def listfunc(list):\n",
    "    if(len(list)>0):\n",
    "        uzunluk = len(list)\n",
    "        return uzunluk\n",
    "    else:\n",
    "        return \"HATA: Liste boş girilmiştir, lütfen listeyi boş bırakmayınız.\"\n",
    "    \n",
    "mesaj = list(input(\"Lütfen bir liste giriniz: \"))\n",
    "listfunc(mesaj)"
   ]
  },
  {
   "cell_type": "code",
   "execution_count": 4,
   "metadata": {},
   "outputs": [
    {
     "name": "stdout",
     "output_type": "stream",
     "text": [
      "Error: The list is empty.\n"
     ]
    }
   ],
   "source": [
    "#Alternatif Yöntem\n",
    "def listefonk(liste):\n",
    "    if(len(liste)<=0):\n",
    "        raise ValueError(\"HATA: Liste boş olmamalı.\")\n",
    "    \n",
    "    liste_uzunluk = len(liste)\n",
    "    return liste_uzunluk\n",
    "        \n",
    "liste_mesaj = list(input(\"Lütfen bir liste giriniz: \"))\n",
    "listefonk(liste_mesaj)"
   ]
  }
 ],
 "metadata": {
  "kernelspec": {
   "display_name": "Python 3",
   "language": "python",
   "name": "python3"
  },
  "language_info": {
   "codemirror_mode": {
    "name": "ipython",
    "version": 3
   },
   "file_extension": ".py",
   "mimetype": "text/x-python",
   "name": "python",
   "nbconvert_exporter": "python",
   "pygments_lexer": "ipython3",
   "version": "3.11.1"
  }
 },
 "nbformat": 4,
 "nbformat_minor": 2
}
