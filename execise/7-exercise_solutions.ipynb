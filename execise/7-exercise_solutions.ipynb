{
 "cells": [
  {
   "cell_type": "code",
   "execution_count": 17,
   "metadata": {},
   "outputs": [],
   "source": [
    "import matplotlib.pyplot as plt\n",
    "import pandas as pd\n",
    "import numpy as np\n",
    "import seaborn as sns\n",
    "%matplotlib inline\n",
    "from sklearn.impute import KNNImputer"
   ]
  },
  {
   "cell_type": "markdown",
   "metadata": {},
   "source": [
    "##### Versiseti Kaynak: https://www.kaggle.com/datasets/alexandrepetit881234/fake-bills"
   ]
  },
  {
   "cell_type": "markdown",
   "metadata": {},
   "source": [
    "- is_genuine: Bir banknotun gerçek (genuine) mi yoksa sahte (fake) mi olduğunu belirten bir özellik\n",
    "\n",
    "- diagonal: Banknotun köşegen uzunluğunu mm cinsinden ifade eden bir özellik\n",
    "\n",
    "- height_left: Banknotun sol yüksekliğini mm cinsinden belirten bir özellik\n",
    "\n",
    "- height_right: Banknotun sağ yüksekliğini mm cinsinde nbelirten bir özellik\n",
    "\n",
    "- margin_low: Banknotun alt kenarındaki boşluğu mm cinsinden ifade eden bir özellik \n",
    "\n",
    "- margin_up: Banknotun üst kenarındaki boşluğu mm cinsinden ifade eden bir özellik olabilir.\n",
    "\n",
    "- length: Banknotun tüm uzunluğunu mm cinsinden ifade eden bir özellik"
   ]
  },
  {
   "cell_type": "code",
   "execution_count": 18,
   "metadata": {},
   "outputs": [],
   "source": [
    "base_url = \"C:/Users/M E L S A/Desktop/M E L S A/data_science/datasciencetemp/data/bills/\"\n",
    "bills_dataset_url = base_url + \"fake_bills.csv\""
   ]
  },
  {
   "cell_type": "code",
   "execution_count": 19,
   "metadata": {},
   "outputs": [
    {
     "data": {
      "text/html": [
       "<div>\n",
       "<style scoped>\n",
       "    .dataframe tbody tr th:only-of-type {\n",
       "        vertical-align: middle;\n",
       "    }\n",
       "\n",
       "    .dataframe tbody tr th {\n",
       "        vertical-align: top;\n",
       "    }\n",
       "\n",
       "    .dataframe thead th {\n",
       "        text-align: right;\n",
       "    }\n",
       "</style>\n",
       "<table border=\"1\" class=\"dataframe\">\n",
       "  <thead>\n",
       "    <tr style=\"text-align: right;\">\n",
       "      <th></th>\n",
       "      <th>is_genuine</th>\n",
       "      <th>diagonal</th>\n",
       "      <th>height_left</th>\n",
       "      <th>height_right</th>\n",
       "      <th>margin_low</th>\n",
       "      <th>margin_up</th>\n",
       "      <th>length</th>\n",
       "    </tr>\n",
       "  </thead>\n",
       "  <tbody>\n",
       "    <tr>\n",
       "      <th>0</th>\n",
       "      <td>True</td>\n",
       "      <td>171.81</td>\n",
       "      <td>104.86</td>\n",
       "      <td>104.95</td>\n",
       "      <td>4.52</td>\n",
       "      <td>2.89</td>\n",
       "      <td>112.83</td>\n",
       "    </tr>\n",
       "    <tr>\n",
       "      <th>1</th>\n",
       "      <td>True</td>\n",
       "      <td>171.46</td>\n",
       "      <td>103.36</td>\n",
       "      <td>103.66</td>\n",
       "      <td>3.77</td>\n",
       "      <td>2.99</td>\n",
       "      <td>113.09</td>\n",
       "    </tr>\n",
       "    <tr>\n",
       "      <th>2</th>\n",
       "      <td>True</td>\n",
       "      <td>172.69</td>\n",
       "      <td>104.48</td>\n",
       "      <td>103.50</td>\n",
       "      <td>4.40</td>\n",
       "      <td>2.94</td>\n",
       "      <td>113.16</td>\n",
       "    </tr>\n",
       "    <tr>\n",
       "      <th>3</th>\n",
       "      <td>True</td>\n",
       "      <td>171.36</td>\n",
       "      <td>103.91</td>\n",
       "      <td>103.94</td>\n",
       "      <td>3.62</td>\n",
       "      <td>3.01</td>\n",
       "      <td>113.51</td>\n",
       "    </tr>\n",
       "    <tr>\n",
       "      <th>4</th>\n",
       "      <td>True</td>\n",
       "      <td>171.73</td>\n",
       "      <td>104.28</td>\n",
       "      <td>103.46</td>\n",
       "      <td>4.04</td>\n",
       "      <td>3.48</td>\n",
       "      <td>112.54</td>\n",
       "    </tr>\n",
       "  </tbody>\n",
       "</table>\n",
       "</div>"
      ],
      "text/plain": [
       "   is_genuine  diagonal  height_left  height_right  margin_low  margin_up  \\\n",
       "0        True    171.81       104.86        104.95        4.52       2.89   \n",
       "1        True    171.46       103.36        103.66        3.77       2.99   \n",
       "2        True    172.69       104.48        103.50        4.40       2.94   \n",
       "3        True    171.36       103.91        103.94        3.62       3.01   \n",
       "4        True    171.73       104.28        103.46        4.04       3.48   \n",
       "\n",
       "   length  \n",
       "0  112.83  \n",
       "1  113.09  \n",
       "2  113.16  \n",
       "3  113.51  \n",
       "4  112.54  "
      ]
     },
     "execution_count": 19,
     "metadata": {},
     "output_type": "execute_result"
    }
   ],
   "source": [
    "df = pd.read_csv(bills_dataset_url) #url yi oku ve DataFrame objesine ata\n",
    "df.head()"
   ]
  },
  {
   "cell_type": "code",
   "execution_count": 21,
   "metadata": {},
   "outputs": [
    {
     "data": {
      "text/plain": [
       "is_genuine       0\n",
       "diagonal         0\n",
       "height_left      0\n",
       "height_right     0\n",
       "margin_low      37\n",
       "margin_up        0\n",
       "length           0\n",
       "dtype: int64"
      ]
     },
     "execution_count": 21,
     "metadata": {},
     "output_type": "execute_result"
    }
   ],
   "source": [
    "df.isnull().sum() # eksik verinin kolon bazında saydırılması"
   ]
  },
  {
   "cell_type": "markdown",
   "metadata": {},
   "source": [
    "#### Eksik Verilerin KNNImputer ile Doldurulması\n",
    "##### KNNImputer; eksik değerlere sahip olan her bir veri noktasını, bu noktanın K en yakın komşusunun değerleri ile doldurur\n",
    "##### 1 - Eksik değeri doldurulacak noktanın konumu belirlenir:\n",
    "- Eksik değeri olan veri noktası belirlenir.\n",
    "##### 2 - Eksik değeri olan noktanın K en yakın komşusu bulunur:\n",
    "- Diğer tüm noktalara olan uzaklıklar hesaplanır ve en yakın K nokta belirlenir. Bu uzaklık genellikle Euclidean mesafesi kullanılarak hesaplanır.\n",
    "##### 3 - Eksik değeri, K en yakın komşunun değerleri kullanılarak doldurulur:\n",
    "- Eksik değeri olan noktanın eksik değeri, K en yakın komşularının ilgili özelliklerinin ortalaması, medyanı veya ağırlıklı ortalaması ile doldurulabilir.\n",
    "##### Bu yöntem, bir tür \"ortak anlayış\" yaklaşımını temsil eder: eksik değeri, benzer özelliklere sahip diğer noktalardan alınan bilgilerle tamamlamaya çalışır. Bu şekilde, eksik verileri doldururken çevresel bağlamı ve veri setinin genel özelliklerini dikkate alabilir."
   ]
  },
  {
   "cell_type": "code",
   "execution_count": 26,
   "metadata": {},
   "outputs": [
    {
     "name": "stdout",
     "output_type": "stream",
     "text": [
      "      is_genuine  diagonal  height_left  height_right  margin_low  margin_up  \\\n",
      "0           True    171.81       104.86        104.95        4.52       2.89   \n",
      "1           True    171.46       103.36        103.66        3.77       2.99   \n",
      "2           True    172.69       104.48        103.50        4.40       2.94   \n",
      "3           True    171.36       103.91        103.94        3.62       3.01   \n",
      "4           True    171.73       104.28        103.46        4.04       3.48   \n",
      "...          ...       ...          ...           ...         ...        ...   \n",
      "1495       False    171.75       104.38        104.17        4.42       3.09   \n",
      "1496       False    172.19       104.63        104.44        5.27       3.37   \n",
      "1497       False    171.80       104.01        104.12        5.51       3.36   \n",
      "1498       False    172.06       104.28        104.06        5.17       3.46   \n",
      "1499       False    171.47       104.15        103.82        4.63       3.37   \n",
      "\n",
      "      length  \n",
      "0     112.83  \n",
      "1     113.09  \n",
      "2     113.16  \n",
      "3     113.51  \n",
      "4     112.54  \n",
      "...      ...  \n",
      "1495  111.28  \n",
      "1496  110.97  \n",
      "1497  111.95  \n",
      "1498  112.25  \n",
      "1499  112.07  \n",
      "\n",
      "[1500 rows x 7 columns]\n"
     ]
    }
   ],
   "source": [
    "# Eksik değerleri içeren sütunun adı\n",
    "missing_column = 'margin_low'\n",
    "\n",
    "# KNNImputer oluşturulur\n",
    "imputer = KNNImputer(n_neighbors=5)  # n_neighbors: K değeri, yani komşuluk sayısı\n",
    "\n",
    "# Eksik değerler doldurulur\n",
    "df[[missing_column]] = imputer.fit_transform(df[[missing_column]])\n",
    "\n",
    "# Eksik değerleri doldurulmuş veri görüntülenir\n",
    "print(df)"
   ]
  },
  {
   "cell_type": "code",
   "execution_count": 27,
   "metadata": {},
   "outputs": [
    {
     "data": {
      "text/plain": [
       "is_genuine      0\n",
       "diagonal        0\n",
       "height_left     0\n",
       "height_right    0\n",
       "margin_low      0\n",
       "margin_up       0\n",
       "length          0\n",
       "dtype: int64"
      ]
     },
     "execution_count": 27,
     "metadata": {},
     "output_type": "execute_result"
    }
   ],
   "source": [
    "df.isnull().sum()"
   ]
  },
  {
   "cell_type": "code",
   "execution_count": 39,
   "metadata": {},
   "outputs": [],
   "source": [
    "from sklearn.model_selection import train_test_split\n",
    "from sklearn.preprocessing import StandardScaler\n",
    "from sklearn.neighbors import KNeighborsClassifier\n",
    "from sklearn.metrics import accuracy_score, classification_report, confusion_matrix"
   ]
  },
  {
   "cell_type": "code",
   "execution_count": 40,
   "metadata": {},
   "outputs": [],
   "source": [
    "# Bağımlı değişken (etiket): is_genuine (1: Gerçek, 0: Sahte)\n",
    "y = df['is_genuine']\n",
    "\n",
    "# Bağımsız değişkenler\n",
    "X = df.drop('is_genuine', axis=1)"
   ]
  },
  {
   "cell_type": "code",
   "execution_count": 41,
   "metadata": {},
   "outputs": [],
   "source": [
    "# Veriyi eğitim ve test setlerine bölelim\n",
    "X_train, X_test, y_train, y_test = train_test_split(X, y, test_size=0.2, random_state=19)"
   ]
  },
  {
   "cell_type": "code",
   "execution_count": 42,
   "metadata": {},
   "outputs": [],
   "source": [
    "# Ölçeklendirmeyi uygula (özelliklerin ölçeklendirilmesi genellikle KNN'de önerilir)\n",
    "scaler = StandardScaler()\n",
    "X_train_scaled = scaler.fit_transform(X_train)\n",
    "X_test_scaled = scaler.transform(X_test)"
   ]
  },
  {
   "cell_type": "code",
   "execution_count": 43,
   "metadata": {},
   "outputs": [],
   "source": [
    "# KNN sınıflandırıcı modelini oluştur\n",
    "knn_model = KNeighborsClassifier(n_neighbors=5)  # Örnek olarak, k=5 kullanıldı. Bu değeri değiştirebilirsiniz."
   ]
  },
  {
   "cell_type": "code",
   "execution_count": 44,
   "metadata": {},
   "outputs": [
    {
     "data": {
      "text/html": [
       "<style>#sk-container-id-1 {color: black;}#sk-container-id-1 pre{padding: 0;}#sk-container-id-1 div.sk-toggleable {background-color: white;}#sk-container-id-1 label.sk-toggleable__label {cursor: pointer;display: block;width: 100%;margin-bottom: 0;padding: 0.3em;box-sizing: border-box;text-align: center;}#sk-container-id-1 label.sk-toggleable__label-arrow:before {content: \"▸\";float: left;margin-right: 0.25em;color: #696969;}#sk-container-id-1 label.sk-toggleable__label-arrow:hover:before {color: black;}#sk-container-id-1 div.sk-estimator:hover label.sk-toggleable__label-arrow:before {color: black;}#sk-container-id-1 div.sk-toggleable__content {max-height: 0;max-width: 0;overflow: hidden;text-align: left;background-color: #f0f8ff;}#sk-container-id-1 div.sk-toggleable__content pre {margin: 0.2em;color: black;border-radius: 0.25em;background-color: #f0f8ff;}#sk-container-id-1 input.sk-toggleable__control:checked~div.sk-toggleable__content {max-height: 200px;max-width: 100%;overflow: auto;}#sk-container-id-1 input.sk-toggleable__control:checked~label.sk-toggleable__label-arrow:before {content: \"▾\";}#sk-container-id-1 div.sk-estimator input.sk-toggleable__control:checked~label.sk-toggleable__label {background-color: #d4ebff;}#sk-container-id-1 div.sk-label input.sk-toggleable__control:checked~label.sk-toggleable__label {background-color: #d4ebff;}#sk-container-id-1 input.sk-hidden--visually {border: 0;clip: rect(1px 1px 1px 1px);clip: rect(1px, 1px, 1px, 1px);height: 1px;margin: -1px;overflow: hidden;padding: 0;position: absolute;width: 1px;}#sk-container-id-1 div.sk-estimator {font-family: monospace;background-color: #f0f8ff;border: 1px dotted black;border-radius: 0.25em;box-sizing: border-box;margin-bottom: 0.5em;}#sk-container-id-1 div.sk-estimator:hover {background-color: #d4ebff;}#sk-container-id-1 div.sk-parallel-item::after {content: \"\";width: 100%;border-bottom: 1px solid gray;flex-grow: 1;}#sk-container-id-1 div.sk-label:hover label.sk-toggleable__label {background-color: #d4ebff;}#sk-container-id-1 div.sk-serial::before {content: \"\";position: absolute;border-left: 1px solid gray;box-sizing: border-box;top: 0;bottom: 0;left: 50%;z-index: 0;}#sk-container-id-1 div.sk-serial {display: flex;flex-direction: column;align-items: center;background-color: white;padding-right: 0.2em;padding-left: 0.2em;position: relative;}#sk-container-id-1 div.sk-item {position: relative;z-index: 1;}#sk-container-id-1 div.sk-parallel {display: flex;align-items: stretch;justify-content: center;background-color: white;position: relative;}#sk-container-id-1 div.sk-item::before, #sk-container-id-1 div.sk-parallel-item::before {content: \"\";position: absolute;border-left: 1px solid gray;box-sizing: border-box;top: 0;bottom: 0;left: 50%;z-index: -1;}#sk-container-id-1 div.sk-parallel-item {display: flex;flex-direction: column;z-index: 1;position: relative;background-color: white;}#sk-container-id-1 div.sk-parallel-item:first-child::after {align-self: flex-end;width: 50%;}#sk-container-id-1 div.sk-parallel-item:last-child::after {align-self: flex-start;width: 50%;}#sk-container-id-1 div.sk-parallel-item:only-child::after {width: 0;}#sk-container-id-1 div.sk-dashed-wrapped {border: 1px dashed gray;margin: 0 0.4em 0.5em 0.4em;box-sizing: border-box;padding-bottom: 0.4em;background-color: white;}#sk-container-id-1 div.sk-label label {font-family: monospace;font-weight: bold;display: inline-block;line-height: 1.2em;}#sk-container-id-1 div.sk-label-container {text-align: center;}#sk-container-id-1 div.sk-container {/* jupyter's `normalize.less` sets `[hidden] { display: none; }` but bootstrap.min.css set `[hidden] { display: none !important; }` so we also need the `!important` here to be able to override the default hidden behavior on the sphinx rendered scikit-learn.org. See: https://github.com/scikit-learn/scikit-learn/issues/21755 */display: inline-block !important;position: relative;}#sk-container-id-1 div.sk-text-repr-fallback {display: none;}</style><div id=\"sk-container-id-1\" class=\"sk-top-container\"><div class=\"sk-text-repr-fallback\"><pre>KNeighborsClassifier()</pre><b>In a Jupyter environment, please rerun this cell to show the HTML representation or trust the notebook. <br />On GitHub, the HTML representation is unable to render, please try loading this page with nbviewer.org.</b></div><div class=\"sk-container\" hidden><div class=\"sk-item\"><div class=\"sk-estimator sk-toggleable\"><input class=\"sk-toggleable__control sk-hidden--visually\" id=\"sk-estimator-id-1\" type=\"checkbox\" checked><label for=\"sk-estimator-id-1\" class=\"sk-toggleable__label sk-toggleable__label-arrow\">KNeighborsClassifier</label><div class=\"sk-toggleable__content\"><pre>KNeighborsClassifier()</pre></div></div></div></div></div>"
      ],
      "text/plain": [
       "KNeighborsClassifier()"
      ]
     },
     "execution_count": 44,
     "metadata": {},
     "output_type": "execute_result"
    }
   ],
   "source": [
    "# Modeli eğit\n",
    "knn_model.fit(X_train_scaled, y_train)"
   ]
  },
  {
   "cell_type": "code",
   "execution_count": 45,
   "metadata": {},
   "outputs": [],
   "source": [
    "# Test setini kullanarak tahmin yap\n",
    "y_pred = knn_model.predict(X_test_scaled)"
   ]
  },
  {
   "cell_type": "code",
   "execution_count": 46,
   "metadata": {},
   "outputs": [],
   "source": [
    "# Model performansını değerlendir\n",
    "accuracy = accuracy_score(y_test, y_pred)\n",
    "conf_matrix = confusion_matrix(y_test, y_pred)\n",
    "class_report = classification_report(y_test, y_pred)"
   ]
  },
  {
   "cell_type": "code",
   "execution_count": 47,
   "metadata": {},
   "outputs": [
    {
     "name": "stdout",
     "output_type": "stream",
     "text": [
      "Accuracy: 1.00\n",
      "\n",
      "Confusion Matrix:\n",
      "[[106   1]\n",
      " [  0 193]]\n",
      "\n",
      "Classification Report:\n",
      "              precision    recall  f1-score   support\n",
      "\n",
      "       False       1.00      0.99      1.00       107\n",
      "        True       0.99      1.00      1.00       193\n",
      "\n",
      "    accuracy                           1.00       300\n",
      "   macro avg       1.00      1.00      1.00       300\n",
      "weighted avg       1.00      1.00      1.00       300\n",
      "\n"
     ]
    }
   ],
   "source": [
    "# Sonuçları görüntüle\n",
    "print(f'Accuracy: {accuracy:.2f}\\n')\n",
    "print('Confusion Matrix:')\n",
    "'''\n",
    "[[TrueNegative, FalsePositive],\n",
    " [FalseNesgative, TruePositive]]\n",
    "'''\n",
    "print(conf_matrix)\n",
    "print('\\nClassification Report:')\n",
    "print(class_report)"
   ]
  },
  {
   "cell_type": "markdown",
   "metadata": {},
   "source": [
    "##### K-En Yakın Komşu (KNN) algoritması için uygulanabilir değerlendirme ölçütleri arasında Jaccard İndeksi, Log Kaybı (Log Loss) ve F1 Skoru bulunmaktadır. Bu metrikler, sınıflandırma algoritmalarının performansını değerlendirmek için kullanılır.\n",
    "\n",
    "##### Jaccard İndeksi:\n",
    "##### Tanım: Jaccard İndeksi, bir sınıflandırma modelinin tahmin ettiği ve gerçekte olan sınıflar arasındaki benzerliği ölçer. Şu formülle ifade edilir: \n",
    "- J(A,B)= ∣A∪B∣/∣A∩B∣\n",
    "##### Açıklama: İndeks, gerçekte ve tahmin edilen sınıfların kesişimini gerçekte ve tahmin edilen sınıfların birleşimine böler. Değer 1'e yaklaştıkça, tahminler gerçek değerlere daha yakındır.\n",
    "\n",
    "##### Log Kaybı (Log Loss):\n",
    "##### Tanım: Log Kaybı, sınıflandırma modelinin tahmin ettiği olasılıklar ile gerçekte olan sınıf etiketleri arasındaki farkı ölçer.\n",
    "##### Açıklama: Düşük log kaybı değerleri, daha iyi bir model performansını gösterir.\n",
    "\n",
    "##### F1 Skoru:\n",
    "##### Tanım: F1 Skoru, precision ve recall metriklerinin harmonik ortalamasıdır ve şu formülle ifade edilir: \n",
    "- F1=2x (PrecisionxRecall/Precision+Recall)\n",
    "##### Açıklama: F1 skoru, hassasiyet (precision) ve duyarlılık (recall) metriklerinin dengesini ölçer. Değer 1'e yaklaştıkça, modelin sınıfları ne kadar iyi ayırt ettiğini gösterir.\n",
    "\n",
    "##### Bu metrikler, sınıflandırma modellerinin performansını değerlendirmek için kullanılır ve modelin belirli özelliklerine ve projenin gereksinimlerine bağlı olarak tercih edilebilir. Jaccard İndeksi, özellikle sınıflandırma problemlerinde sınıf dengesizliği durumlarında etkilidir. Log Kaybı, özellikle olasılık tahminlerini değerlendirmek için kullanılırken, F1 Skoru hassasiyet ve duyarlılık arasındaki dengeyi gösterir.\n",
    "\n",
    "\n",
    "\n",
    "\n",
    "\n"
   ]
  }
 ],
 "metadata": {
  "kernelspec": {
   "display_name": "Python 3",
   "language": "python",
   "name": "python3"
  },
  "language_info": {
   "codemirror_mode": {
    "name": "ipython",
    "version": 3
   },
   "file_extension": ".py",
   "mimetype": "text/x-python",
   "name": "python",
   "nbconvert_exporter": "python",
   "pygments_lexer": "ipython3",
   "version": "3.11.7"
  }
 },
 "nbformat": 4,
 "nbformat_minor": 2
}
